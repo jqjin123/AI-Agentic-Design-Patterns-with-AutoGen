{
 "cells": [
  {
   "cell_type": "markdown",
   "id": "fc3024e2",
   "metadata": {},
   "source": [
    "# Lesson 3: Reflection and Blogpost Writing"
   ]
  },
  {
   "cell_type": "markdown",
   "id": "3b0cc42f",
   "metadata": {},
   "source": [
    "## Setup"
   ]
  },
  {
   "cell_type": "code",
   "execution_count": 1,
   "id": "96d39be0-eaf3-456d-8613-ba21099ed36b",
   "metadata": {
    "height": 30
   },
   "outputs": [],
   "source": [
    "llm_config = {\"model\": \"gpt-3.5-turbo\"}"
   ]
  },
  {
   "cell_type": "markdown",
   "id": "0969e6bb",
   "metadata": {},
   "source": [
    "## The task!"
   ]
  },
  {
   "cell_type": "code",
   "execution_count": 2,
   "id": "e8074032-3690-4de9-ad08-ea8323cb441b",
   "metadata": {
    "height": 115
   },
   "outputs": [],
   "source": [
    "task = '''\n",
    "        Write a concise but engaging blogpost about\n",
    "       DeepLearning.AI. Make sure the blogpost is\n",
    "       within 100 words.\n",
    "       '''\n"
   ]
  },
  {
   "cell_type": "markdown",
   "id": "1987f023",
   "metadata": {},
   "source": [
    "## Create a writer agent"
   ]
  },
  {
   "cell_type": "code",
   "execution_count": 3,
   "id": "fe0f0a47-a9fe-43a0-b7b1-79922e4c4ac8",
   "metadata": {
    "height": 183
   },
   "outputs": [],
   "source": [
    "import autogen\n",
    "\n",
    "writer = autogen.AssistantAgent(\n",
    "    name=\"Writer\",\n",
    "    system_message=\"You are a writer. You write engaging and concise \" \n",
    "        \"blogpost (with title) on given topics. You must polish your \"\n",
    "        \"writing based on the feedback you receive and give a refined \"\n",
    "        \"version. Only return your final work without additional comments.\",\n",
    "    llm_config=llm_config,\n",
    ")"
   ]
  },
  {
   "cell_type": "code",
   "execution_count": 4,
   "id": "7c7b4d8d-40f7-4a05-8958-25d20054de3a",
   "metadata": {
    "height": 30
   },
   "outputs": [],
   "source": [
    "reply = writer.generate_reply(messages=[{\"content\": task, \"role\": \"user\"}])"
   ]
  },
  {
   "cell_type": "code",
   "execution_count": 5,
   "id": "c501c97d-e338-4f36-a384-6ec45983cf77",
   "metadata": {
    "height": 30
   },
   "outputs": [
    {
     "name": "stdout",
     "output_type": "stream",
     "text": [
      "Title: Unveiling DeepLearning.AI: A Revolution in Education\n",
      "\n",
      "Dive into the world of artificial intelligence with DeepLearning.AI, a groundbreaking platform revolutionizing online learning. Led by AI expert Andrew Ng, this platform offers top-notch courses on deep learning, machine learning, and AI technology. With a user-friendly interface and engaging content, DeepLearning.AI makes complex concepts easily digestible for learners of all levels. Whether you're a novice or an industry professional, this platform provides invaluable knowledge to propel your career forward in the ever-evolving tech industry. Join the AI revolution today with DeepLearning.AI.\n"
     ]
    }
   ],
   "source": [
    "print(reply)"
   ]
  },
  {
   "cell_type": "markdown",
   "id": "49658114",
   "metadata": {},
   "source": [
    "## Adding reflection \n",
    "\n",
    "Create a critic agent to reflect on the work of the writer agent."
   ]
  },
  {
   "cell_type": "code",
   "execution_count": 6,
   "id": "c7fcd1c7-51ec-4915-8e97-bac03565c4c7",
   "metadata": {
    "height": 149
   },
   "outputs": [],
   "source": [
    "critic = autogen.AssistantAgent(\n",
    "    name=\"Critic\",\n",
    "    is_termination_msg=lambda x: x.get(\"content\", \"\").find(\"TERMINATE\") >= 0,\n",
    "    llm_config=llm_config,\n",
    "    system_message=\"You are a critic. You review the work of \"\n",
    "                \"the writer and provide constructive \"\n",
    "                \"feedback to help improve the quality of the content.\",\n",
    ")"
   ]
  },
  {
   "cell_type": "code",
   "execution_count": 7,
   "id": "899d5fdb-6081-470b-b287-8cf8b8142d0d",
   "metadata": {
    "height": 115
   },
   "outputs": [
    {
     "name": "stdout",
     "output_type": "stream",
     "text": [
      "\u001b[33mCritic\u001b[0m (to Writer):\n",
      "\n",
      "\n",
      "        Write a concise but engaging blogpost about\n",
      "       DeepLearning.AI. Make sure the blogpost is\n",
      "       within 100 words.\n",
      "       \n",
      "\n",
      "--------------------------------------------------------------------------------\n",
      "\u001b[33mWriter\u001b[0m (to Critic):\n",
      "\n",
      "Title: Unveiling DeepLearning.AI: A Revolution in Education\n",
      "\n",
      "Dive into the world of artificial intelligence with DeepLearning.AI, a groundbreaking platform revolutionizing online learning. Led by AI expert Andrew Ng, this platform offers top-notch courses on deep learning, machine learning, and AI technology. With a user-friendly interface and engaging content, DeepLearning.AI makes complex concepts easily digestible for learners of all levels. Whether you're a novice or an industry professional, this platform provides invaluable knowledge to propel your career forward in the ever-evolving tech industry. Join the AI revolution today with DeepLearning.AI.\n",
      "\n",
      "--------------------------------------------------------------------------------\n",
      "\u001b[33mCritic\u001b[0m (to Writer):\n",
      "\n",
      "Your blog post is engaging and informative, effectively capturing the essence of DeepLearning.AI and its significance in the field of artificial intelligence education. The title sets the tone for the content, drawing readers in to learn more about the platform. To enhance the review further, you could consider including specific examples of the courses offered, highlighting any unique features or benefits of DeepLearning.AI compared to other online learning platforms. Providing insights on the impact of completing these courses on learners' careers could also add value to the review. Additionally, concluding with a call to action inviting readers to explore the platform could create a more impactful closing. Great job overall!\n",
      "\n",
      "--------------------------------------------------------------------------------\n",
      "\u001b[33mWriter\u001b[0m (to Critic):\n",
      "\n",
      "Title: DeepLearning.AI: Empowering Learners in AI Education\n",
      "\n",
      "Embark on an AI learning journey with DeepLearning.AI, where AI expert Andrew Ng leads the way. Offering courses on deep learning, machine learning, and AI, this platform caters to all levels of learners. From user-friendly interfaces to engaging content, DeepLearning.AI stands out in the world of online education. By completing these courses, learners gain valuable insights to excel in the tech industry. Don't miss the chance to revolutionize your career - dive into the realm of AI with DeepLearning.AI today!\n",
      "\n",
      "--------------------------------------------------------------------------------\n"
     ]
    }
   ],
   "source": [
    "res = critic.initiate_chat(\n",
    "    recipient=writer,\n",
    "    message=task,\n",
    "    max_turns=2,\n",
    "    summary_method=\"last_msg\"\n",
    ")"
   ]
  },
  {
   "cell_type": "markdown",
   "id": "e7b76449",
   "metadata": {},
   "source": [
    "## Nested chat"
   ]
  },
  {
   "cell_type": "code",
   "execution_count": 8,
   "id": "401ecf92-63e9-40ff-aeed-1c404352e4ab",
   "metadata": {
    "height": 200
   },
   "outputs": [],
   "source": [
    "SEO_reviewer = autogen.AssistantAgent(\n",
    "    name=\"SEO Reviewer\",\n",
    "    llm_config=llm_config,\n",
    "    system_message=\"You are an SEO reviewer, known for \"\n",
    "        \"your ability to optimize content for search engines, \"\n",
    "        \"ensuring that it ranks well and attracts organic traffic. \" \n",
    "        \"Make sure your suggestion is concise (within 3 bullet points), \"\n",
    "        \"concrete and to the point. \"\n",
    "        \"Begin the review by stating your role.\",\n",
    ")\n"
   ]
  },
  {
   "cell_type": "code",
   "execution_count": 9,
   "id": "f85acb81-7ab9-4c84-b8bb-6fbae3dce848",
   "metadata": {
    "height": 183
   },
   "outputs": [],
   "source": [
    "legal_reviewer = autogen.AssistantAgent(\n",
    "    name=\"Legal Reviewer\",\n",
    "    llm_config=llm_config,\n",
    "    system_message=\"You are a legal reviewer, known for \"\n",
    "        \"your ability to ensure that content is legally compliant \"\n",
    "        \"and free from any potential legal issues. \"\n",
    "        \"Make sure your suggestion is concise (within 3 bullet points), \"\n",
    "        \"concrete and to the point. \"\n",
    "        \"Begin the review by stating your role.\",\n",
    ")"
   ]
  },
  {
   "cell_type": "code",
   "execution_count": 10,
   "id": "d46a177a-8088-4956-8d2b-3e916b8ca5e9",
   "metadata": {
    "height": 183
   },
   "outputs": [],
   "source": [
    "ethics_reviewer = autogen.AssistantAgent(\n",
    "    name=\"Ethics Reviewer\",\n",
    "    llm_config=llm_config,\n",
    "    system_message=\"You are an ethics reviewer, known for \"\n",
    "        \"your ability to ensure that content is ethically sound \"\n",
    "        \"and free from any potential ethical issues. \" \n",
    "        \"Make sure your suggestion is concise (within 3 bullet points), \"\n",
    "        \"concrete and to the point. \"\n",
    "        \"Begin the review by stating your role. \",\n",
    ")"
   ]
  },
  {
   "cell_type": "code",
   "execution_count": 11,
   "id": "a7b2ad6f-8ba6-436a-9459-14ffbe8a32d3",
   "metadata": {
    "height": 115
   },
   "outputs": [],
   "source": [
    "meta_reviewer = autogen.AssistantAgent(\n",
    "    name=\"Meta Reviewer\",\n",
    "    llm_config=llm_config,\n",
    "    system_message=\"You are a meta reviewer, you aggragate and review \"\n",
    "    \"the work of other reviewers and give a final suggestion on the content.\",\n",
    ")"
   ]
  },
  {
   "cell_type": "markdown",
   "id": "913beca1",
   "metadata": {},
   "source": [
    "## Orchestrate the nested chats to solve the task"
   ]
  },
  {
   "cell_type": "code",
   "execution_count": 12,
   "id": "a11a70c7-19ca-4e5a-ad3d-f2b481fb5915",
   "metadata": {
    "height": 555
   },
   "outputs": [],
   "source": [
    "def reflection_message(recipient, messages, sender, config):\n",
    "    return f'''Review the following content. \n",
    "            \\n\\n {recipient.chat_messages_for_summary(sender)[-1]['content']}'''\n",
    "\n",
    "review_chats = [\n",
    "    {\n",
    "     \"recipient\": SEO_reviewer, \n",
    "     \"message\": reflection_message, \n",
    "     \"summary_method\": \"reflection_with_llm\",\n",
    "     \"summary_args\": {\"summary_prompt\" : \n",
    "        \"Return review into as JSON object only:\"\n",
    "        \"{'Reviewer': '', 'Review': ''}. Here Reviewer should be your role\",},\n",
    "     \"max_turns\": 1},\n",
    "    {\n",
    "    \"recipient\": legal_reviewer, \"message\": reflection_message, \n",
    "     \"summary_method\": \"reflection_with_llm\",\n",
    "     \"summary_args\": {\"summary_prompt\" : \n",
    "        \"Return review into as JSON object only:\"\n",
    "        \"{'Reviewer': '', 'Review': ''}.\",},\n",
    "     \"max_turns\": 1},\n",
    "    {\"recipient\": ethics_reviewer, \"message\": reflection_message, \n",
    "     \"summary_method\": \"reflection_with_llm\",\n",
    "     \"summary_args\": {\"summary_prompt\" : \n",
    "        \"Return review into as JSON object only:\"\n",
    "        \"{'reviewer': '', 'review': ''}\",},\n",
    "     \"max_turns\": 1},\n",
    "     {\"recipient\": meta_reviewer, \n",
    "      \"message\": \"Aggregrate feedback from all reviewers and give final suggestions on the writing.\", \n",
    "     \"max_turns\": 1},\n",
    "]\n"
   ]
  },
  {
   "cell_type": "code",
   "execution_count": 13,
   "id": "b3a40b66-5061-460d-ad9d-c0dbcfbba2e9",
   "metadata": {
    "height": 81
   },
   "outputs": [],
   "source": [
    "critic.register_nested_chats(\n",
    "    review_chats,\n",
    "    trigger=writer,\n",
    ")"
   ]
  },
  {
   "cell_type": "markdown",
   "id": "43b8797d",
   "metadata": {},
   "source": [
    "**Note**: You might get a slightly different response than what's shown in the video. Feel free to try different task."
   ]
  },
  {
   "cell_type": "code",
   "execution_count": 14,
   "id": "3b8dcac3-1e72-43b7-9d5a-1be740f6efd5",
   "metadata": {
    "height": 115
   },
   "outputs": [
    {
     "name": "stdout",
     "output_type": "stream",
     "text": [
      "\u001b[33mCritic\u001b[0m (to Writer):\n",
      "\n",
      "\n",
      "        Write a concise but engaging blogpost about\n",
      "       DeepLearning.AI. Make sure the blogpost is\n",
      "       within 100 words.\n",
      "       \n",
      "\n",
      "--------------------------------------------------------------------------------\n",
      "\u001b[33mWriter\u001b[0m (to Critic):\n",
      "\n",
      "Title: Unveiling DeepLearning.AI: A Revolution in Education\n",
      "\n",
      "Dive into the world of artificial intelligence with DeepLearning.AI, a groundbreaking platform revolutionizing online learning. Led by AI expert Andrew Ng, this platform offers top-notch courses on deep learning, machine learning, and AI technology. With a user-friendly interface and engaging content, DeepLearning.AI makes complex concepts easily digestible for learners of all levels. Whether you're a novice or an industry professional, this platform provides invaluable knowledge to propel your career forward in the ever-evolving tech industry. Join the AI revolution today with DeepLearning.AI.\n",
      "\n",
      "--------------------------------------------------------------------------------\n",
      "\u001b[34m\n",
      "********************************************************************************\u001b[0m\n",
      "\u001b[34mStarting a new chat....\u001b[0m\n",
      "\u001b[34m\n",
      "********************************************************************************\u001b[0m\n",
      "\u001b[33mCritic\u001b[0m (to SEO Reviewer):\n",
      "\n",
      "Review the following content. \n",
      "            \n",
      "\n",
      " Title: Unveiling DeepLearning.AI: A Revolution in Education\n",
      "\n",
      "Dive into the world of artificial intelligence with DeepLearning.AI, a groundbreaking platform revolutionizing online learning. Led by AI expert Andrew Ng, this platform offers top-notch courses on deep learning, machine learning, and AI technology. With a user-friendly interface and engaging content, DeepLearning.AI makes complex concepts easily digestible for learners of all levels. Whether you're a novice or an industry professional, this platform provides invaluable knowledge to propel your career forward in the ever-evolving tech industry. Join the AI revolution today with DeepLearning.AI.\n",
      "\n",
      "--------------------------------------------------------------------------------\n",
      "\u001b[33mSEO Reviewer\u001b[0m (to Critic):\n",
      "\n",
      "As an SEO reviewer:\n",
      "\n",
      "- Incorporate relevant keywords (e.g., artificial intelligence, Andrew Ng, DeepLearning.AI, online learning) into the content to improve search engine visibility.\n",
      "- Utilize meta tags, such as title tags and meta descriptions, to optimize the content for search engines and increase organic traffic.\n",
      "- Include internal links to related content on the website to improve overall website SEO performance.\n",
      "\n",
      "--------------------------------------------------------------------------------\n",
      "\u001b[34m\n",
      "********************************************************************************\u001b[0m\n",
      "\u001b[34mStarting a new chat....\u001b[0m\n",
      "\u001b[34m\n",
      "********************************************************************************\u001b[0m\n",
      "\u001b[33mCritic\u001b[0m (to Legal Reviewer):\n",
      "\n",
      "Review the following content. \n",
      "            \n",
      "\n",
      " Title: Unveiling DeepLearning.AI: A Revolution in Education\n",
      "\n",
      "Dive into the world of artificial intelligence with DeepLearning.AI, a groundbreaking platform revolutionizing online learning. Led by AI expert Andrew Ng, this platform offers top-notch courses on deep learning, machine learning, and AI technology. With a user-friendly interface and engaging content, DeepLearning.AI makes complex concepts easily digestible for learners of all levels. Whether you're a novice or an industry professional, this platform provides invaluable knowledge to propel your career forward in the ever-evolving tech industry. Join the AI revolution today with DeepLearning.AI.\n",
      "Context: \n",
      "{'Reviewer': 'SEO Reviewer', 'Review': 'The content should incorporate relevant keywords like artificial intelligence, Andrew Ng, DeepLearning.AI, and online learning for better search engine visibility. Meta tags should be used to optimize the content, and internal links to related content can improve website SEO performance.'}\n",
      "\n",
      "--------------------------------------------------------------------------------\n",
      "\u001b[33mLegal Reviewer\u001b[0m (to Critic):\n",
      "\n",
      "As a Legal Reviewer, my feedback is:\n",
      "- Ensure proper attribution for any claims made about DeepLearning.AI being a \"groundbreaking platform revolutionizing online learning\" and for the qualifications of Andrew Ng as an AI expert.\n",
      "- Avoid any unsubstantiated superlatives like calling the platform \"top-notch\" or claiming it offers \"invaluable knowledge\" unless backed up with verifiable data or evidence.\n",
      "- Include a disclaimer stating that career advancement in the tech industry is subject to individual effort and may not be guaranteed solely by participating in courses offered by DeepLearning.AI.\n",
      "\n",
      "--------------------------------------------------------------------------------\n",
      "\u001b[34m\n",
      "********************************************************************************\u001b[0m\n",
      "\u001b[34mStarting a new chat....\u001b[0m\n",
      "\u001b[34m\n",
      "********************************************************************************\u001b[0m\n",
      "\u001b[33mCritic\u001b[0m (to Ethics Reviewer):\n",
      "\n",
      "Review the following content. \n",
      "            \n",
      "\n",
      " Title: Unveiling DeepLearning.AI: A Revolution in Education\n",
      "\n",
      "Dive into the world of artificial intelligence with DeepLearning.AI, a groundbreaking platform revolutionizing online learning. Led by AI expert Andrew Ng, this platform offers top-notch courses on deep learning, machine learning, and AI technology. With a user-friendly interface and engaging content, DeepLearning.AI makes complex concepts easily digestible for learners of all levels. Whether you're a novice or an industry professional, this platform provides invaluable knowledge to propel your career forward in the ever-evolving tech industry. Join the AI revolution today with DeepLearning.AI.\n",
      "Context: \n",
      "{'Reviewer': 'SEO Reviewer', 'Review': 'The content should incorporate relevant keywords like artificial intelligence, Andrew Ng, DeepLearning.AI, and online learning for better search engine visibility. Meta tags should be used to optimize the content, and internal links to related content can improve website SEO performance.'}\n",
      "{'Reviewer': 'Legal Reviewer', 'Review': '- Ensure proper attribution for any claims made about DeepLearning.AI being a \"groundbreaking platform revolutionizing online learning\" and for the qualifications of Andrew Ng as an AI expert.\\n- Avoid any unsubstantiated superlatives like calling the platform \"top-notch\" or claiming it offers \"invaluable knowledge\" unless backed up with verifiable data or evidence.\\n- Include a disclaimer stating that career advancement in the tech industry is subject to individual effort and may not be guaranteed solely by participating in courses offered by DeepLearning.AI.'}\n",
      "\n",
      "--------------------------------------------------------------------------------\n",
      "\u001b[33mEthics Reviewer\u001b[0m (to Critic):\n",
      "\n",
      "As an ethics reviewer, my role is to ensure that content is ethically sound and free from any potential ethical issues. \n",
      "\n",
      "- Avoid using unsubstantiated superlatives like \"groundbreaking\" and \"top-notch\" without providing verifiable evidence to support these claims.\n",
      "- Verify and properly attribute any claims regarding DeepLearning.AI being a revolutionary platform and the qualifications of Andrew Ng as an AI expert.\n",
      "- Include a disclaimer stating that career advancement in the tech industry is subject to individual effort and not guaranteed solely by participating in courses offered by DeepLearning.AI.\n",
      "\n",
      "--------------------------------------------------------------------------------\n",
      "\u001b[34m\n",
      "********************************************************************************\u001b[0m\n",
      "\u001b[34mStarting a new chat....\u001b[0m\n",
      "\u001b[34m\n",
      "********************************************************************************\u001b[0m\n",
      "\u001b[33mCritic\u001b[0m (to Meta Reviewer):\n",
      "\n",
      "Aggregrate feedback from all reviewers and give final suggestions on the writing.\n",
      "Context: \n",
      "{'Reviewer': 'SEO Reviewer', 'Review': 'The content should incorporate relevant keywords like artificial intelligence, Andrew Ng, DeepLearning.AI, and online learning for better search engine visibility. Meta tags should be used to optimize the content, and internal links to related content can improve website SEO performance.'}\n",
      "{'Reviewer': 'Legal Reviewer', 'Review': '- Ensure proper attribution for any claims made about DeepLearning.AI being a \"groundbreaking platform revolutionizing online learning\" and for the qualifications of Andrew Ng as an AI expert.\\n- Avoid any unsubstantiated superlatives like calling the platform \"top-notch\" or claiming it offers \"invaluable knowledge\" unless backed up with verifiable data or evidence.\\n- Include a disclaimer stating that career advancement in the tech industry is subject to individual effort and may not be guaranteed solely by participating in courses offered by DeepLearning.AI.'}\n",
      "{'reviewer': 'Ethics Reviewer', 'review': '- Avoid using unsubstantiated superlatives like \"groundbreaking\" and \"top-notch\" without providing verifiable evidence to support these claims.\\n- Verify and properly attribute any claims regarding DeepLearning.AI being a revolutionary platform and the qualifications of Andrew Ng as an AI expert.\\n- Include a disclaimer stating that career advancement in the tech industry is subject to individual effort and not guaranteed solely by participating in courses offered by DeepLearning.AI.'}\n"
     ]
    },
    {
     "name": "stdout",
     "output_type": "stream",
     "text": [
      "\n",
      "--------------------------------------------------------------------------------\n",
      "\u001b[33mMeta Reviewer\u001b[0m (to Critic):\n",
      "\n",
      "Aggregated feedback from all reviewers:\n",
      "\n",
      "1. **SEO Reviewer**: \n",
      "   - Use relevant keywords like artificial intelligence, Andrew Ng, DeepLearning.AI, and online learning for better search engine visibility.\n",
      "   - Utilize meta tags and internal links to related content for improved website SEO performance.\n",
      "\n",
      "2. **Legal Reviewer**: \n",
      "   - Ensure proper attribution for claims about DeepLearning.AI and Andrew Ng.\n",
      "   - Avoid using unsubstantiated superlatives without evidence.\n",
      "   - Include a disclaimer about career advancement not being guaranteed solely by participating in courses offered by DeepLearning.AI.\n",
      "\n",
      "3. **Ethics Reviewer**:\n",
      "   - Avoid using unsubstantiated superlatives.\n",
      "   - Verify and attribute claims about DeepLearning.AI and Andrew Ng.\n",
      "   - Include a disclaimer about career advancement in the tech industry.\n",
      "\n",
      "**Final Suggestions**:\n",
      "- Incorporate the relevant keywords suggested by the SEO Reviewer to enhance search engine visibility.\n",
      "- Provide proper attribution for any claims made about DeepLearning.AI and Andrew Ng as recommended by both Legal and Ethics reviewers.\n",
      "- Avoid using unsubstantiated superlatives and ensure all claims are backed by evidence.\n",
      "- Include a disclaimer about career advancement not being guaranteed solely by participating in courses offered by DeepLearning.AI, addressing concerns raised by both Legal and Ethics reviewers.\n",
      "- Overall, ensure accuracy, transparency, and evidence-based writing to maintain credibility and ethical standards.\n",
      "\n",
      "--------------------------------------------------------------------------------\n",
      "\u001b[33mCritic\u001b[0m (to Writer):\n",
      "\n",
      "Aggregated feedback from all reviewers:\n",
      "\n",
      "1. **SEO Reviewer**: \n",
      "   - Use relevant keywords like artificial intelligence, Andrew Ng, DeepLearning.AI, and online learning for better search engine visibility.\n",
      "   - Utilize meta tags and internal links to related content for improved website SEO performance.\n",
      "\n",
      "2. **Legal Reviewer**: \n",
      "   - Ensure proper attribution for claims about DeepLearning.AI and Andrew Ng.\n",
      "   - Avoid using unsubstantiated superlatives without evidence.\n",
      "   - Include a disclaimer about career advancement not being guaranteed solely by participating in courses offered by DeepLearning.AI.\n",
      "\n",
      "3. **Ethics Reviewer**:\n",
      "   - Avoid using unsubstantiated superlatives.\n",
      "   - Verify and attribute claims about DeepLearning.AI and Andrew Ng.\n",
      "   - Include a disclaimer about career advancement in the tech industry.\n",
      "\n",
      "**Final Suggestions**:\n",
      "- Incorporate the relevant keywords suggested by the SEO Reviewer to enhance search engine visibility.\n",
      "- Provide proper attribution for any claims made about DeepLearning.AI and Andrew Ng as recommended by both Legal and Ethics reviewers.\n",
      "- Avoid using unsubstantiated superlatives and ensure all claims are backed by evidence.\n",
      "- Include a disclaimer about career advancement not being guaranteed solely by participating in courses offered by DeepLearning.AI, addressing concerns raised by both Legal and Ethics reviewers.\n",
      "- Overall, ensure accuracy, transparency, and evidence-based writing to maintain credibility and ethical standards.\n",
      "\n",
      "--------------------------------------------------------------------------------\n",
      "\u001b[33mWriter\u001b[0m (to Critic):\n",
      "\n",
      "Title: Navigating the World of Artificial Intelligence with DeepLearning.AI\n",
      "\n",
      "Embark on your AI journey with DeepLearning.AI, an innovative online platform spearheaded by renowned expert Andrew Ng. Explore courses on artificial intelligence, machine learning, and deep learning in a user-friendly interface designed for all skill levels. Enhance your tech prowess and stay ahead in the industry with DeepLearning.AI's engaging content. Remember, career growth is a combination of learning and practical application - disclaimer. Join the AI evolution with DeepLearning.AI today for a brighter tomorrow.\n",
      "\n",
      "--------------------------------------------------------------------------------\n"
     ]
    }
   ],
   "source": [
    "res = critic.initiate_chat(\n",
    "    recipient=writer,\n",
    "    message=task,\n",
    "    max_turns=2,\n",
    "    summary_method=\"last_msg\"\n",
    ")"
   ]
  },
  {
   "cell_type": "markdown",
   "id": "c5c833b0",
   "metadata": {},
   "source": [
    "## Get the summary"
   ]
  },
  {
   "cell_type": "code",
   "execution_count": 15,
   "id": "68ef82ed-f102-4964-b7be-60e2f258a39b",
   "metadata": {
    "height": 30
   },
   "outputs": [
    {
     "name": "stdout",
     "output_type": "stream",
     "text": [
      "Title: Navigating the World of Artificial Intelligence with DeepLearning.AI\n",
      "\n",
      "Embark on your AI journey with DeepLearning.AI, an innovative online platform spearheaded by renowned expert Andrew Ng. Explore courses on artificial intelligence, machine learning, and deep learning in a user-friendly interface designed for all skill levels. Enhance your tech prowess and stay ahead in the industry with DeepLearning.AI's engaging content. Remember, career growth is a combination of learning and practical application - disclaimer. Join the AI evolution with DeepLearning.AI today for a brighter tomorrow.\n"
     ]
    }
   ],
   "source": [
    "print(res.summary)"
   ]
  }
 ],
 "metadata": {
  "kernelspec": {
   "display_name": "Python 3 (ipykernel)",
   "language": "python",
   "name": "python3"
  },
  "language_info": {
   "codemirror_mode": {
    "name": "ipython",
    "version": 3
   },
   "file_extension": ".py",
   "mimetype": "text/x-python",
   "name": "python",
   "nbconvert_exporter": "python",
   "pygments_lexer": "ipython3",
   "version": "3.11.9"
  }
 },
 "nbformat": 4,
 "nbformat_minor": 5
}
